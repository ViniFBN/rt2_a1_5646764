{
 "cells": [
  {
   "attachments": {},
   "cell_type": "markdown",
   "metadata": {},
   "source": [
    "# Assignment 2 - Research Track 2\n",
    "\n",
    "Second assignment for Research Track 2 course, done by **Vinícius Ferreira (S5646764)**.\n",
    "\n",
    "This notebook refers to the second assignment done on Research Track 1 course, tasked with creating a notebook to replace the user interface on `node_a`.\n",
    "\n",
    "Widgets are also going to be used, mainly for knowing:\n",
    "* Handling the motion of the robot in the environment\n",
    "* The positions of the robot and target, in a plot form (with `FuncAnimation`)\n",
    "* Targets set/cancelled in the environment (distance, goal and quantity)\n",
    "* Distance of the closest obstacle in a text box (if using the laser scanner, then a plot is needed)\n",
    "\n",
    "## Execution of the node\n",
    "\n",
    "As the `node_a` was, previously, the first one to be executed in the launch file, such as that, this jupyter notebook also has to be called first.\n",
    "\n",
    "Click the `run all cells` until the node stops and is waiting for the client connection. Launch the file with `roslaunch assignment_2_2022 assignment1.launch`, which will connect the client. Lastly, input the desired goal on the proper widget and `run all cells below` the one with the widget (the cell containing the action clients)."
   ]
  },
  {
   "attachments": {},
   "cell_type": "markdown",
   "metadata": {},
   "source": [
    "## Modules"
   ]
  },
  {
   "cell_type": "code",
   "execution_count": null,
   "metadata": {},
   "outputs": [],
   "source": [
    "#! /usr/bin/env python3\n",
    "\n",
    "import rospy\n",
    "import os\n",
    "import actionlib\n",
    "import actionlib.msg\n",
    "from vinicius_assignment_2_rt1.msg import node_a_msg\n",
    "from assignment_2_2022.msg import *\n",
    "from geometry_msgs.msg import Twist\n",
    "from std_msgs.msg import Bool\n",
    "from nav_msgs.msg import Odometry\n",
    "from sensor_msgs.msg import LaserScan\n",
    "from tf import transformations\n",
    "from std_srvs.srv import *\n",
    "import time\n",
    "\n",
    "import ipywidgets as widgets\n",
    "import IPython.display\n",
    "import matplotlib\n",
    "from matplotlib import animation\n",
    "import matplotlib.pyplot as plt\n",
    "from matplotlib.animation import FuncAnimation\n",
    "import numpy as np\n",
    "import math\n",
    "import jupyros as jr\n",
    "from jupyros.ros1 import ros3d\n",
    "\n",
    "%matplotlib widget"
   ]
  },
  {
   "attachments": {},
   "cell_type": "markdown",
   "metadata": {},
   "source": [
    "## Initialization\n",
    "\n",
    "Initializing the main node for the ROS integration."
   ]
  },
  {
   "cell_type": "code",
   "execution_count": null,
   "metadata": {},
   "outputs": [],
   "source": [
    "rospy.init_node('node_a')"
   ]
  },
  {
   "attachments": {},
   "cell_type": "markdown",
   "metadata": {},
   "source": [
    "## Variables initialization"
   ]
  },
  {
   "cell_type": "code",
   "execution_count": null,
   "metadata": {},
   "outputs": [],
   "source": [
    "global position_, yaw_, pose_, twist_msg, pub_a, pub_twist, msg_custom, cmd_widget, goal_send, reached_goals, cancelled_goals\n",
    "twist_msg = Twist()\n",
    "msg_custom = node_a_msg()\n",
    "cmd_widget = Twist()\n",
    "goal_send = assignment_2_2022.msg.PlanningGoal() \n",
    "\n",
    "reached_goals = 0\n",
    "cancelled_goals = 0"
   ]
  },
  {
   "attachments": {},
   "cell_type": "markdown",
   "metadata": {},
   "source": [
    "## Functions\n",
    "\n",
    "Calling the functions from the original code."
   ]
  },
  {
   "cell_type": "code",
   "execution_count": null,
   "metadata": {},
   "outputs": [],
   "source": [
    "def clbk_odom(msg):\n",
    "    # position\n",
    "    position_ = msg.pose.pose.position\n",
    "    pose_ = msg.pose.pose\n",
    "\n",
    "    # yaw\n",
    "    quaternion = (\n",
    "        msg.pose.pose.orientation.x,\n",
    "        msg.pose.pose.orientation.y,\n",
    "        msg.pose.pose.orientation.z,\n",
    "        msg.pose.pose.orientation.w)\n",
    "    euler = transformations.euler_from_quaternion(quaternion)\n",
    "    yaw_ = euler[2]\n",
    "    \n",
    "    msg_custom = node_a_msg()\n",
    "    msg_custom.x = position_.x\n",
    "    msg_custom.y = position_.y\n",
    "    msg_custom.vel_x = msg.twist.twist.linear.x\n",
    "    msg_custom.vel_y = msg.twist.twist.linear.y\n",
    "    pub_a.publish(msg_custom)\n",
    "    \n",
    "def stp_robot():\n",
    "    twist_msg = Twist()\n",
    "    twist_msg.linear.x = 0\n",
    "    twist_msg.angular.z = 0\n",
    "    pub_twist.publish(twist_msg)"
   ]
  },
  {
   "attachments": {},
   "cell_type": "markdown",
   "metadata": {},
   "source": [
    "## Topics, services and actions"
   ]
  },
  {
   "cell_type": "code",
   "execution_count": null,
   "metadata": {},
   "outputs": [],
   "source": [
    "pub_twist = rospy.Publisher('/cmd_vel', Twist, queue_size=1)\n",
    "sub_odom = rospy.Subscriber('/odom', Odometry, clbk_odom)\n",
    "pub_a = rospy.Publisher('/node_a_info', node_a_msg, queue_size=1)"
   ]
  },
  {
   "attachments": {},
   "cell_type": "markdown",
   "metadata": {},
   "source": [
    "## User interface\n",
    "\n",
    "Definition of the functions for a button which controls the velocity of the robot."
   ]
  },
  {
   "cell_type": "code",
   "execution_count": null,
   "metadata": {},
   "outputs": [],
   "source": [
    "def forward_command(event):\n",
    "    global cmd_widget, pub_twist\n",
    "    \n",
    "    cmd_widget.linear.x += 0.5\n",
    "    pub_twist.publish(cmd_widget)\n",
    "    \n",
    "def reverse_command(event):\n",
    "    cmd_widget.linear.x -= 0.5\n",
    "    pub_twist.publish(cmd_widget)\n",
    "    \n",
    "def turn_left_command(event):\n",
    "    cmd_widget.angular.z -= 0.1\n",
    "    pub_twist.publish(cmd_widget)\n",
    "\n",
    "def turn_right_command(event):\n",
    "    cmd_widget.angular.z += 0.1\n",
    "    pub_twist.publish(cmd_widget)\n",
    "    \n",
    "def stop_command(event):\n",
    "    cmd_widget.linear.x = 0.0\n",
    "    cmd_widget.angular.z = 0.0\n",
    "    pub_twist.publish(cmd_widget)\n"
   ]
  },
  {
   "attachments": {},
   "cell_type": "markdown",
   "metadata": {},
   "source": [
    "Buttons definition"
   ]
  },
  {
   "cell_type": "code",
   "execution_count": null,
   "metadata": {},
   "outputs": [],
   "source": [
    "button_forward = widgets.Button(description='V+',\n",
    "                                layout=widgets.Layout(width = '50px', height = '50px', grid_area = 'b_up'),\n",
    "                                style=widgets.ButtonStyle(button_color='green'))\n",
    "\n",
    "button_reverse = widgets.Button(description='V-',\n",
    "                                layout=widgets.Layout(width = '50px', height = '50px', grid_area = 'b_down'),\n",
    "                                style=widgets.ButtonStyle(button_color='green'))\n",
    "\n",
    "button_left = widgets.Button(description='<-',\n",
    "                              layout=widgets.Layout(width = '50px', height = '50px', grid_area = 'b_left'),\n",
    "                              style=widgets.ButtonStyle(button_color='yellow'))\n",
    "\n",
    "button_right = widgets.Button(description='->',\n",
    "                             layout=widgets.Layout(width = '50px', height = '50px', grid_area = 'b_right'),\n",
    "                             style=widgets.ButtonStyle(button_color='yellow'))\n",
    "\n",
    "button_stop = widgets.Button(description='X',\n",
    "                             layout=widgets.Layout(width = '50px', height = '50px', grid_area = 'b_stop'),\n",
    "                             style=widgets.ButtonStyle(button_color='red'))"
   ]
  },
  {
   "attachments": {},
   "cell_type": "markdown",
   "metadata": {},
   "source": [
    "Adding the functions to the buttons"
   ]
  },
  {
   "cell_type": "code",
   "execution_count": null,
   "metadata": {},
   "outputs": [],
   "source": [
    "button_forward.on_click(forward_command)\n",
    "button_reverse.on_click(reverse_command)\n",
    "button_left.on_click(turn_left_command)\n",
    "button_right.on_click(turn_right_command)\n",
    "button_stop.on_click(stop_command)"
   ]
  },
  {
   "cell_type": "code",
   "execution_count": null,
   "metadata": {},
   "outputs": [],
   "source": [
    "layout_buttons = widgets.Layout(width = '60%',\n",
    "                                grid_template_columns = '50px 50px 50px',\n",
    "                                grid_template_rows = 'auto auto auto',\n",
    "                                grid_gap = '12px 12px',\n",
    "                                grid_template_areas = \n",
    "                                ''' \"  .     b_up     .   \"\n",
    "                                    \"b_left b_stop b_right\"\n",
    "                                    \"  .    b_down    .   \" ''')\n",
    "\n",
    "\n",
    "widgets.GridBox(children = [button_forward, button_left, button_stop, button_right, button_reverse],\n",
    "                layout = layout_buttons)\n"
   ]
  },
  {
   "attachments": {},
   "cell_type": "markdown",
   "metadata": {},
   "source": [
    "## Main code"
   ]
  },
  {
   "attachments": {},
   "cell_type": "markdown",
   "metadata": {},
   "source": [
    "Goal to be sent to the action server in a form of interactive widget. User can input the values for `X` and `Y`, click `Send Goal` and re-run the next node (after the button one) for the goal to be sent to the other nodes."
   ]
  },
  {
   "cell_type": "code",
   "execution_count": null,
   "metadata": {},
   "outputs": [],
   "source": [
    "in_var_x = widgets.FloatText(description = 'X = ', \n",
    "                             layout = widgets.Layout(height = 'auto', width = '150px'))\n",
    "in_var_y = widgets.FloatText(description = 'Y = ',\n",
    "                             layout = widgets.Layout(height = 'auto', width = '150px'))\n",
    "\n",
    "display('Input the goal coordinates: ', in_var_x, in_var_y)\n",
    "\n",
    "button_goal = widgets.Button(description = 'Send goal')\n",
    "button_goal_out = widgets.Output()\n",
    "display(button_goal, button_goal_out)\n",
    "\n",
    "def button_clicked(btn):\n",
    "    with button_goal_out:\n",
    "        button_goal_out.clear_output()\n",
    "        print(\"Robot deployed to goal!\")\n",
    "        goal_send.target_pose.pose.position.x = in_var_x.value\n",
    "        goal_send.target_pose.pose.position.y = in_var_y.value\n",
    "        print(\"Goal set as x = \", goal_send.target_pose.pose.position.x, \"| y = \", goal_send.target_pose.pose.position.y)\n",
    "        \n",
    "button_goal.on_click(button_clicked)\n"
   ]
  },
  {
   "cell_type": "code",
   "execution_count": null,
   "metadata": {},
   "outputs": [],
   "source": [
    "\n",
    "act_c_bug = actionlib.SimpleActionClient('/reaching_goal_bug', assignment_2_2022.msg.PlanningAction)\n",
    "act_c_bug.wait_for_server()\n",
    "\n",
    "act_c_point = actionlib.SimpleActionClient('/reaching_goal_point', assignment_2_2022.msg.PlanningAction)\n",
    "act_c_point.wait_for_server() # Waiting for the action server\n",
    "   \n",
    "act_c_c = actionlib.SimpleActionClient('/reaching_goal_c', assignment_2_2022.msg.PlanningAction)\n",
    "act_c_c.wait_for_server() # Waiting for the action server\n",
    "\n",
    "act_c_bug.send_goal(goal_send)\n",
    "act_c_point.send_goal(goal_send)\n",
    "act_c_c.send_goal(goal_send)"
   ]
  },
  {
   "attachments": {},
   "cell_type": "markdown",
   "metadata": {},
   "source": [
    "Cancel button to make the robot stop and cancel all active goals. User can set up a new goal on the previous widget and start the robot again."
   ]
  },
  {
   "cell_type": "code",
   "execution_count": null,
   "metadata": {},
   "outputs": [],
   "source": [
    "button_cancel = widgets.Button(description = 'Cancel goal')\n",
    "button_cancel_out = widgets.Output()\n",
    "display(button_cancel, button_cancel_out)\n",
    "\n",
    "def button_clicked_cancel(btn):\n",
    "    global cmd_widget, pub_twist, pub_goal, cancelled_goals\n",
    "    with button_cancel_out:\n",
    "        button_cancel_out.clear_output()\n",
    "        print(\"Goal cancelled!\")\n",
    "        \n",
    "        act_c_bug.cancel_all_goals()\n",
    "        act_c_point.cancel_all_goals()\n",
    "        act_c_c.cancel_all_goals()\n",
    "        \n",
    "        cmd_widget.linear.x = 0.0\n",
    "        cmd_widget.angular.z = 0.0\n",
    "        pub_twist.publish(cmd_widget)\n",
    "\n",
    "        cancelled_goals += 1\n",
    "        \n",
    "        #act_c_bug.wait_for_result()\n",
    "        #act_c_bug.get_result()\n",
    "\n",
    "        \n",
    "button_cancel.on_click(button_clicked_cancel)"
   ]
  },
  {
   "attachments": {},
   "cell_type": "markdown",
   "metadata": {},
   "source": [
    "## Plots\n",
    "\n",
    "Position of the robot in a cartesian plane."
   ]
  },
  {
   "cell_type": "code",
   "execution_count": null,
   "metadata": {},
   "outputs": [],
   "source": [
    "class Visualiser:\n",
    "    def __init__(self):\n",
    "        self.fig, self.ax = plt.subplots()\n",
    "        self.ln, = plt.plot([], [], 'ro')\n",
    "        self.x_data, self.y_data = [] , []\n",
    "        \n",
    "    def plot_init(self):\n",
    "        self.ax.set_xlim(-10, 10)\n",
    "        self.ax.set_ylim(-10, 10)\n",
    "        self.ax.invert_xaxis()\n",
    "        self.ax.invert_yaxis()\n",
    "        self.ax.grid(True)\n",
    "        return self.ln\n",
    "    \n",
    "    def odom_callback(self, msg):\n",
    "        position_ = msg.pose.pose.position\n",
    "        self.x_data.append(position_.x)\n",
    "        self.y_data.append(position_.y)\n",
    "        \n",
    "    def update_plot(self, frame):\n",
    "        self.ln.set_data(self.x_data, self.y_data)\n",
    "        return self.ln\n",
    "\n",
    "vis = Visualiser()\n",
    "sub_plot_odom = rospy.Subscriber('/odom', Odometry, vis.odom_callback)\n",
    "\n",
    "animation_pos_target = FuncAnimation(vis.fig, vis.update_plot, init_func=vis.plot_init)\n",
    "plt.show()"
   ]
  },
  {
   "attachments": {},
   "cell_type": "markdown",
   "metadata": {},
   "source": [
    "For the goals reached and cancelled in a bar plot."
   ]
  },
  {
   "cell_type": "code",
   "execution_count": null,
   "metadata": {},
   "outputs": [],
   "source": [
    "class VisualiserBar:\n",
    "    def __init__(self):\n",
    "        self.fig, self.ax = plt.subplots()\n",
    "        self.bar_reached = self.ax.bar(0, 0, color='g')[0]\n",
    "        self.bar_cancelled = self.ax.bar(1, 0, color='r')[0]\n",
    "        \n",
    "    def plot_init(self):\n",
    "        self.ax.set_xticks([0, 1])\n",
    "        self.ax.set_xticklabels(['Reached', 'Cancelled'])\n",
    "        self.ax.set_ylim(0,5)\n",
    "        return self.bar_reached, self.bar_cancelled\n",
    "            \n",
    "    def odom_callback(self, msg):\n",
    "        global reached_goals, in_var_x, in_var_y\n",
    "        position_ = msg.pose.pose.position\n",
    "        if math.sqrt(pow(in_var_y.value - position_.y, 2) + pow(in_var_x.value - position_.x, 2)) < 0.5:\n",
    "            reached_goals += 1\n",
    "            in_var_x.value = 0\n",
    "            in_var_y.value = 0\n",
    "            return reached_goals\n",
    "            \n",
    "    def update_plot(self, frame):\n",
    "        global reached_goals, cancelled_goals\n",
    "        self.bar_reached.set_height(reached_goals)\n",
    "        self.bar_cancelled.set_height(cancelled_goals)\n",
    "        self.ax.set_ylim(0, 5+reached_goals)\n",
    "        return self.bar_reached, self.bar_cancelled\n",
    "    \n",
    "vis_bar = VisualiserBar()\n",
    "sub_plot_odom_2 = rospy.Subscriber('/odom', Odometry, vis_bar.odom_callback)\n",
    "\n",
    "animation_goals = FuncAnimation(vis_bar.fig, vis_bar.update_plot, init_func=vis_bar.plot_init)\n",
    "plt.show()"
   ]
  },
  {
   "attachments": {},
   "cell_type": "markdown",
   "metadata": {},
   "source": [
    "Polar plot for the Laser Scan topic."
   ]
  },
  {
   "cell_type": "code",
   "execution_count": null,
   "metadata": {},
   "outputs": [],
   "source": [
    "class VisuaLaser:\n",
    "    def __init__(self):\n",
    "        self.fig, self.ax = plt.subplots(subplot_kw={'projection': 'polar'})\n",
    "        self.line, = self.ax.plot([], [], 'r-')\n",
    "        self.angle_min = None\n",
    "        self.angle_max = None\n",
    "        self.angle_increment = None\n",
    "        self.range_max = None\n",
    "        self.ranges = None\n",
    "        self.angles = None\n",
    "        \n",
    "    def plot_init(self):\n",
    "        self.ax.set_rmax(self.range_max)\n",
    "        self.ax.set_rticks(np.arange(0, self.range_max + 1, 1))\n",
    "        self.ax.set_rlabel_position(180)\n",
    "        self.ax.grid(True)\n",
    "        return self.line\n",
    "    \n",
    "    def laser_callback(self, scan_msg):\n",
    "        self.ranges = scan_msg.ranges\n",
    "        self.angle_min = scan_msg.angle_min\n",
    "        self.angle_max = scan_msg.angle_max\n",
    "        self.angle_increment = scan_msg.angle_increment\n",
    "        self.range_max = scan_msg.range_max\n",
    "        \n",
    "        self.ranges = np.array(self.ranges)\n",
    "\n",
    "        self.ranges[np.isnan(self.ranges)] = self.range_max + 1\n",
    "\n",
    "        self.angles = np.arange(self.angle_min, self.angle_max + self.angle_increment, self.angle_increment)\n",
    "        x = self.ranges * np.cos(self.angles)\n",
    "        y = self.ranges * np.sin(self.angles)\n",
    "\n",
    "        self.line.set_data(self.angles, self.ranges)\n",
    "        self.ax.set_rmax(self.range_max)\n",
    "        self.ax.set_rticks(np.arange(0, self.range_max + 1, 1))\n",
    "        self.ax.set_rlabel_position(180)\n",
    "        self.ax.grid(True)\n",
    "        return self.line\n",
    "\n",
    "vis_laser = VisuaLaser()\n",
    "scan_subscriber = rospy.Subscriber('/scan', LaserScan, vis_laser.laser_callback)\n",
    "\n",
    "ani = animation.FuncAnimation(vis_laser.fig, vis_laser.plot_init, frames=1, blit=True)\n",
    "ani = animation.FuncAnimation(vis_laser.fig, vis_laser.laser_callback, frames=1, interval=50, blit=True)\n",
    "\n",
    "plt.show()\n"
   ]
  }
 ],
 "metadata": {
  "kernelspec": {
   "display_name": "Python 3 (ipykernel)",
   "language": "python",
   "name": "python3"
  },
  "language_info": {
   "codemirror_mode": {
    "name": "ipython",
    "version": 3
   },
   "file_extension": ".py",
   "mimetype": "text/x-python",
   "name": "python",
   "nbconvert_exporter": "python",
   "pygments_lexer": "ipython3",
   "version": "3.9.15"
  },
  "vscode": {
   "interpreter": {
    "hash": "916dbcbb3f70747c44a77c7bcd40155683ae19c65e1c03b4aa3499c5328201f1"
   }
  }
 },
 "nbformat": 4,
 "nbformat_minor": 2
}
